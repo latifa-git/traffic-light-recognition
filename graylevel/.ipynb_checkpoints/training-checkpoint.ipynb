{
 "cells": [
  {
   "cell_type": "code",
   "execution_count": 2,
   "metadata": {},
   "outputs": [
    {
     "name": "stderr",
     "output_type": "stream",
     "text": [
      "  0%|          | 1/200 [00:00<00:23,  8.47it/s]"
     ]
    },
    {
     "name": "stdout",
     "output_type": "stream",
     "text": [
      "data shape  (5, 2) <class 'pandas.core.frame.DataFrame'>\n"
     ]
    },
    {
     "name": "stderr",
     "output_type": "stream",
     "text": [
      "100%|██████████| 200/200 [00:00<00:00, 674.48it/s]\n",
      "100%|██████████| 189/189 [00:00<00:00, 1613.59it/s]\n",
      "100%|██████████| 176/176 [00:00<00:00, 205.64it/s]\n",
      "100%|██████████| 183/183 [00:00<00:00, 284.83it/s]\n",
      "100%|██████████| 177/177 [00:00<00:00, 248.22it/s]"
     ]
    },
    {
     "name": "stdout",
     "output_type": "stream",
     "text": [
      "919\n",
      "2\n",
      "0\n",
      "4\n",
      "4\n",
      "0\n",
      "2\n",
      "4\n",
      "4\n",
      "3\n",
      "2\n"
     ]
    },
    {
     "name": "stderr",
     "output_type": "stream",
     "text": [
      "\n"
     ]
    }
   ],
   "source": [
    "import os\n",
    "import cv2\n",
    "import numpy as np\n",
    "from tqdm import tqdm\n",
    "import pandas as pd\n",
    "\n",
    "\n",
    "DATADIR = 'datta'\n",
    "CATEGORIES = ['0', '1','2','3','4']\n",
    "labelFile = 'labels.csv' # file with all names of classes\n",
    "\n",
    "\n",
    "\n",
    "\n",
    "IMG_SIZE = 64\n",
    "def create_training_data():\n",
    "    training_data = []\n",
    "    for category in CATEGORIES:  \n",
    "\n",
    "        path = os.path.join(DATADIR,category) \n",
    "        class_num = CATEGORIES.index(category)  # get the classification  (0 or a 1). 0=C 1=O\n",
    "        for img in tqdm(os.listdir(path)):  # iterate over each image\n",
    "            try:\n",
    "                img_array = cv2.imread(os.path.join(path,img))  # convert to array\n",
    "                new_array = cv2.resize(img_array, (IMG_SIZE, IMG_SIZE))\n",
    "                # resize to normalize data size\n",
    "                new_array  = cv2.cvtColor(new_array, cv2.COLOR_BGR2GRAY)\n",
    "                training_data.append([new_array, class_num])  # add this to our training_data\n",
    "            except Exception as e:  # in the interest in keeping the output clean...\n",
    "                pass\n",
    "              \n",
    "    return training_data\n",
    "\n",
    "data=pd.read_csv(labelFile)\n",
    "print(\"data shape \",data.shape,type(data))\n",
    "\n",
    "\n",
    "training_data = create_training_data()\n",
    "\n",
    "\n",
    "import random\n",
    "\n",
    "print(len(training_data))\n",
    "random.shuffle(training_data)\n",
    "for sample in training_data[:10]:\n",
    "    print(sample[1])\n",
    "\n",
    "\n",
    "X = []\n",
    "Y = []\n",
    "\n",
    "for features,label in training_data:\n",
    "    X.append(features)\n",
    "    Y.append(label)\n",
    "\n",
    "X = np.array(X).reshape(-1, IMG_SIZE, IMG_SIZE, 1)\n",
    "X = X/255.0\n",
    "X.shape[1:]\n",
    "\n",
    "y=np.array(Y)\n",
    "\n"
   ]
  },
  {
   "cell_type": "code",
   "execution_count": null,
   "metadata": {},
   "outputs": [
    {
     "name": "stdout",
     "output_type": "stream",
     "text": [
      "Epoch 1/50\n",
      "21/21 [==============================] - 6s 302ms/step - loss: 1.5858 - accuracy: 0.2691 - val_loss: 1.5475 - val_accuracy: 0.2065\n",
      "Epoch 2/50\n",
      "21/21 [==============================] - 5s 234ms/step - loss: 1.4485 - accuracy: 0.3437 - val_loss: 1.1046 - val_accuracy: 0.5109\n",
      "Epoch 3/50\n",
      "21/21 [==============================] - 4s 201ms/step - loss: 1.0136 - accuracy: 0.5770 - val_loss: 0.8538 - val_accuracy: 0.5797\n",
      "Epoch 4/50\n",
      "21/21 [==============================] - 4s 214ms/step - loss: 0.7733 - accuracy: 0.6439 - val_loss: 0.9291 - val_accuracy: 0.5616\n",
      "Epoch 5/50\n",
      "21/21 [==============================] - 4s 212ms/step - loss: 0.6593 - accuracy: 0.7185 - val_loss: 0.7177 - val_accuracy: 0.7101\n",
      "Epoch 6/50\n",
      "21/21 [==============================] - 4s 196ms/step - loss: 0.6410 - accuracy: 0.7170 - val_loss: 0.5638 - val_accuracy: 0.7246\n",
      "Epoch 7/50\n",
      "21/21 [==============================] - 4s 189ms/step - loss: 0.6041 - accuracy: 0.7232 - val_loss: 0.5740 - val_accuracy: 0.7681\n",
      "Epoch 8/50\n",
      "21/21 [==============================] - 6s 283ms/step - loss: 0.4970 - accuracy: 0.7932 - val_loss: 0.5575 - val_accuracy: 0.7391\n",
      "Epoch 9/50\n",
      "21/21 [==============================] - 5s 225ms/step - loss: 0.5215 - accuracy: 0.7776 - val_loss: 0.4596 - val_accuracy: 0.8225\n",
      "Epoch 10/50\n",
      "21/21 [==============================] - 4s 201ms/step - loss: 0.4710 - accuracy: 0.8056 - val_loss: 0.4981 - val_accuracy: 0.8043\n",
      "Epoch 11/50\n",
      "21/21 [==============================] - 4s 206ms/step - loss: 0.4144 - accuracy: 0.8305 - val_loss: 0.3483 - val_accuracy: 0.8804\n",
      "Epoch 12/50\n",
      " 2/21 [=>............................] - ETA: 1s - loss: 0.3553 - accuracy: 0.8438"
     ]
    }
   ],
   "source": [
    "import tensorflow as tf\n",
    "from tensorflow.keras.datasets import cifar10\n",
    "from tensorflow.keras.preprocessing.image import ImageDataGenerator\n",
    "from tensorflow.keras.models import Sequential\n",
    "from tensorflow.keras.layers import Dense, Dropout, Activation, Flatten\n",
    "from tensorflow.keras.layers import Conv2D, AveragePooling2D\n",
    "model = Sequential()\n",
    "\n",
    "\n",
    "model.add(Conv2D(filters=16, kernel_size=(3, 3), activation='relu', input_shape=X.shape[1:]))\n",
    "model.add(AveragePooling2D())\n",
    "model.add(Dropout(0.5))\n",
    "\n",
    "model.add(Conv2D(filters=32, kernel_size=(3, 3), activation='relu'))\n",
    "model.add(AveragePooling2D())\n",
    "model.add(Dropout(0.5))\n",
    "\n",
    "model.add(Conv2D(filters=64, kernel_size=(3, 3), activation='relu'))\n",
    "model.add(AveragePooling2D())\n",
    "model.add(Dropout(0.5))\n",
    "\n",
    "model.add(Flatten())\n",
    "\n",
    "model.add(Dense(units=256, activation='relu'))\n",
    "model.add(Dropout(0.2))\n",
    "\n",
    "model.add(Dense(units=128, activation='relu'))\n",
    "\n",
    "model.add(Dense(units=5, activation = 'softmax'))\n",
    "\n",
    "model.compile(loss='sparse_categorical_crossentropy',\n",
    "              optimizer='adam',\n",
    "              metrics=['accuracy'])\n",
    "\n",
    "\n",
    "\n",
    "\n",
    "history = model.fit(X, y, batch_size=32, epochs=50,validation_split=0.3)\n",
    "model.save('modelsign2.h5')\n"
   ]
  }
 ],
 "metadata": {
  "kernelspec": {
   "display_name": "Python 3",
   "language": "python",
   "name": "python3"
  },
  "language_info": {
   "codemirror_mode": {
    "name": "ipython",
    "version": 3
   },
   "file_extension": ".py",
   "mimetype": "text/x-python",
   "name": "python",
   "nbconvert_exporter": "python",
   "pygments_lexer": "ipython3",
   "version": "3.7.9"
  }
 },
 "nbformat": 4,
 "nbformat_minor": 2
}
