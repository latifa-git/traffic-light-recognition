{
 "cells": [
  {
   "cell_type": "code",
   "execution_count": 1,
   "metadata": {},
   "outputs": [
    {
     "name": "stderr",
     "output_type": "stream",
     "text": [
      "  0%|          | 1/200 [00:00<00:23,  8.58it/s]"
     ]
    },
    {
     "name": "stdout",
     "output_type": "stream",
     "text": [
      "data shape  (5, 2) <class 'pandas.core.frame.DataFrame'>\n"
     ]
    },
    {
     "name": "stderr",
     "output_type": "stream",
     "text": [
      "100%|██████████| 200/200 [00:00<00:00, 678.97it/s]\n",
      "100%|██████████| 189/189 [00:00<00:00, 1670.17it/s]\n",
      "100%|██████████| 176/176 [00:02<00:00, 86.85it/s]\n",
      "100%|██████████| 183/183 [00:00<00:00, 291.51it/s]\n",
      "100%|██████████| 177/177 [00:00<00:00, 271.72it/s]"
     ]
    },
    {
     "name": "stdout",
     "output_type": "stream",
     "text": [
      "919\n",
      "3\n",
      "0\n",
      "3\n",
      "3\n",
      "2\n",
      "4\n",
      "4\n",
      "3\n",
      "3\n",
      "4\n"
     ]
    },
    {
     "name": "stderr",
     "output_type": "stream",
     "text": [
      "\n"
     ]
    }
   ],
   "source": [
    "import os\n",
    "import cv2\n",
    "import numpy as np\n",
    "from tqdm import tqdm\n",
    "import pandas as pd\n",
    "\n",
    "\n",
    "DATADIR = 'datta'\n",
    "CATEGORIES = ['0', '1','2','3','4']\n",
    "labelFile = 'labels.csv' # file with all names of classes\n",
    "\n",
    "\n",
    "\n",
    "\n",
    "IMG_SIZE = 64\n",
    "def create_training_data():\n",
    "    training_data = []\n",
    "    for category in CATEGORIES:  \n",
    "\n",
    "        path = os.path.join(DATADIR,category) \n",
    "        class_num = CATEGORIES.index(category)  # get the classification  (0 or a 1). 0=C 1=O\n",
    "        for img in tqdm(os.listdir(path)):  # iterate over each image\n",
    "            try:\n",
    "                img_array = cv2.imread(os.path.join(path,img))  # convert to array\n",
    "                new_array = cv2.resize(img_array, (IMG_SIZE, IMG_SIZE))\n",
    "                # resize to normalize data size\n",
    "                new_array  = cv2.cvtColor(new_array, cv2.COLOR_BGR2GRAY)\n",
    "                training_data.append([new_array, class_num])  # add this to our training_data\n",
    "            except Exception as e:  # in the interest in keeping the output clean...\n",
    "                pass\n",
    "              \n",
    "    return training_data\n",
    "\n",
    "data=pd.read_csv(labelFile)\n",
    "print(\"data shape \",data.shape,type(data))\n",
    "\n",
    "\n",
    "training_data = create_training_data()\n",
    "\n",
    "\n",
    "import random\n",
    "\n",
    "print(len(training_data))\n",
    "random.shuffle(training_data)\n",
    "for sample in training_data[:10]:\n",
    "    print(sample[1])\n",
    "\n",
    "\n",
    "X = []\n",
    "Y = []\n",
    "\n",
    "for features,label in training_data:\n",
    "    X.append(features)\n",
    "    Y.append(label)\n",
    "\n",
    "X = np.array(X).reshape(-1, IMG_SIZE, IMG_SIZE, 1)\n",
    "X = X/255.0\n",
    "X.shape[1:]\n",
    "\n",
    "y=np.array(Y)\n",
    "\n"
   ]
  },
  {
   "cell_type": "code",
   "execution_count": 2,
   "metadata": {},
   "outputs": [
    {
     "name": "stdout",
     "output_type": "stream",
     "text": [
      "Epoch 1/50\n",
      "21/21 [==============================] - 5s 227ms/step - loss: 1.5815 - accuracy: 0.2442 - val_loss: 1.5217 - val_accuracy: 0.3188\n",
      "Epoch 2/50\n",
      "21/21 [==============================] - 4s 181ms/step - loss: 1.3447 - accuracy: 0.3966 - val_loss: 1.1518 - val_accuracy: 0.5906\n",
      "Epoch 3/50\n",
      "21/21 [==============================] - 4s 203ms/step - loss: 1.0183 - accuracy: 0.5521 - val_loss: 0.8730 - val_accuracy: 0.5906\n",
      "Epoch 4/50\n",
      "21/21 [==============================] - 4s 201ms/step - loss: 0.8257 - accuracy: 0.6159 - val_loss: 0.9209 - val_accuracy: 0.5543\n",
      "Epoch 5/50\n",
      "21/21 [==============================] - 5s 225ms/step - loss: 0.7191 - accuracy: 0.6485 - val_loss: 0.6232 - val_accuracy: 0.6957\n",
      "Epoch 6/50\n",
      "21/21 [==============================] - 5s 225ms/step - loss: 0.5945 - accuracy: 0.7325 - val_loss: 0.6818 - val_accuracy: 0.6630\n",
      "Epoch 7/50\n",
      "21/21 [==============================] - 5s 236ms/step - loss: 0.5888 - accuracy: 0.7216 - val_loss: 0.5491 - val_accuracy: 0.7681\n",
      "Epoch 8/50\n",
      "21/21 [==============================] - 4s 192ms/step - loss: 0.5679 - accuracy: 0.7449 - val_loss: 0.5177 - val_accuracy: 0.8116\n",
      "Epoch 9/50\n",
      "21/21 [==============================] - 5s 239ms/step - loss: 0.4817 - accuracy: 0.7947 - val_loss: 0.5288 - val_accuracy: 0.7754\n",
      "Epoch 10/50\n",
      "21/21 [==============================] - 5s 223ms/step - loss: 0.4230 - accuracy: 0.8227 - val_loss: 0.3693 - val_accuracy: 0.8841\n",
      "Epoch 11/50\n",
      "21/21 [==============================] - 5s 217ms/step - loss: 0.3096 - accuracy: 0.8663 - val_loss: 0.3427 - val_accuracy: 0.8732\n",
      "Epoch 12/50\n",
      "21/21 [==============================] - 4s 189ms/step - loss: 0.3299 - accuracy: 0.8616 - val_loss: 0.3938 - val_accuracy: 0.8877\n",
      "Epoch 13/50\n",
      "21/21 [==============================] - 5s 239ms/step - loss: 0.2807 - accuracy: 0.8865 - val_loss: 0.2836 - val_accuracy: 0.8877\n",
      "Epoch 14/50\n",
      "21/21 [==============================] - 5s 228ms/step - loss: 0.2672 - accuracy: 0.8989 - val_loss: 0.2473 - val_accuracy: 0.9094\n",
      "Epoch 15/50\n",
      "21/21 [==============================] - 4s 192ms/step - loss: 0.2306 - accuracy: 0.9160 - val_loss: 0.2698 - val_accuracy: 0.8877\n",
      "Epoch 16/50\n",
      "21/21 [==============================] - 4s 203ms/step - loss: 0.2056 - accuracy: 0.9222 - val_loss: 0.2455 - val_accuracy: 0.9022\n",
      "Epoch 17/50\n",
      "21/21 [==============================] - 4s 183ms/step - loss: 0.1983 - accuracy: 0.9300 - val_loss: 0.2793 - val_accuracy: 0.9203\n",
      "Epoch 18/50\n",
      "21/21 [==============================] - 4s 179ms/step - loss: 0.2344 - accuracy: 0.9114 - val_loss: 0.2470 - val_accuracy: 0.9058\n",
      "Epoch 19/50\n",
      "21/21 [==============================] - 4s 182ms/step - loss: 0.1663 - accuracy: 0.9425 - val_loss: 0.2341 - val_accuracy: 0.9275\n",
      "Epoch 20/50\n",
      "21/21 [==============================] - 4s 190ms/step - loss: 0.1913 - accuracy: 0.9269 - val_loss: 0.2188 - val_accuracy: 0.9130\n",
      "Epoch 21/50\n",
      "21/21 [==============================] - 4s 183ms/step - loss: 0.1711 - accuracy: 0.9362 - val_loss: 0.2328 - val_accuracy: 0.9130\n",
      "Epoch 22/50\n",
      "21/21 [==============================] - 4s 185ms/step - loss: 0.1573 - accuracy: 0.9456 - val_loss: 0.2437 - val_accuracy: 0.9348\n",
      "Epoch 23/50\n",
      "21/21 [==============================] - 4s 181ms/step - loss: 0.1120 - accuracy: 0.9596 - val_loss: 0.2252 - val_accuracy: 0.9312\n",
      "Epoch 24/50\n",
      "21/21 [==============================] - 4s 205ms/step - loss: 0.1266 - accuracy: 0.9502 - val_loss: 0.2048 - val_accuracy: 0.9420\n",
      "Epoch 25/50\n",
      "21/21 [==============================] - 4s 184ms/step - loss: 0.1562 - accuracy: 0.9331 - val_loss: 0.1927 - val_accuracy: 0.9203\n",
      "Epoch 26/50\n",
      "21/21 [==============================] - 4s 176ms/step - loss: 0.1433 - accuracy: 0.9362 - val_loss: 0.2214 - val_accuracy: 0.9312\n",
      "Epoch 27/50\n",
      "21/21 [==============================] - 4s 179ms/step - loss: 0.1027 - accuracy: 0.9627 - val_loss: 0.2170 - val_accuracy: 0.9312\n",
      "Epoch 28/50\n",
      "21/21 [==============================] - 4s 189ms/step - loss: 0.1025 - accuracy: 0.9627 - val_loss: 0.2278 - val_accuracy: 0.9420\n",
      "Epoch 29/50\n",
      "21/21 [==============================] - 4s 186ms/step - loss: 0.1276 - accuracy: 0.9440 - val_loss: 0.2206 - val_accuracy: 0.9275\n",
      "Epoch 30/50\n",
      "21/21 [==============================] - 4s 175ms/step - loss: 0.1448 - accuracy: 0.9347 - val_loss: 0.2192 - val_accuracy: 0.9239\n",
      "Epoch 31/50\n",
      "21/21 [==============================] - 4s 183ms/step - loss: 0.1192 - accuracy: 0.9549 - val_loss: 0.2240 - val_accuracy: 0.9275\n",
      "Epoch 32/50\n",
      "21/21 [==============================] - 4s 193ms/step - loss: 0.1052 - accuracy: 0.9518 - val_loss: 0.1877 - val_accuracy: 0.9312\n",
      "Epoch 33/50\n",
      "21/21 [==============================] - 4s 177ms/step - loss: 0.0915 - accuracy: 0.9673 - val_loss: 0.2199 - val_accuracy: 0.9420\n",
      "Epoch 34/50\n",
      "21/21 [==============================] - 4s 184ms/step - loss: 0.0960 - accuracy: 0.9689 - val_loss: 0.1891 - val_accuracy: 0.9239\n",
      "Epoch 35/50\n",
      "21/21 [==============================] - 4s 174ms/step - loss: 0.0882 - accuracy: 0.9658 - val_loss: 0.2080 - val_accuracy: 0.9348\n",
      "Epoch 36/50\n",
      "21/21 [==============================] - 4s 198ms/step - loss: 0.0587 - accuracy: 0.9798 - val_loss: 0.2155 - val_accuracy: 0.9384\n",
      "Epoch 37/50\n",
      "21/21 [==============================] - 4s 201ms/step - loss: 0.0621 - accuracy: 0.9751 - val_loss: 0.2150 - val_accuracy: 0.9312\n",
      "Epoch 38/50\n",
      "21/21 [==============================] - 4s 190ms/step - loss: 0.0663 - accuracy: 0.9782 - val_loss: 0.2396 - val_accuracy: 0.9312\n",
      "Epoch 39/50\n",
      "21/21 [==============================] - 4s 199ms/step - loss: 0.0887 - accuracy: 0.9705 - val_loss: 0.2077 - val_accuracy: 0.9275\n",
      "Epoch 40/50\n",
      "21/21 [==============================] - 5s 235ms/step - loss: 0.0659 - accuracy: 0.9782 - val_loss: 0.2109 - val_accuracy: 0.9312\n",
      "Epoch 41/50\n",
      "21/21 [==============================] - 4s 201ms/step - loss: 0.0450 - accuracy: 0.9891 - val_loss: 0.2421 - val_accuracy: 0.9348\n",
      "Epoch 42/50\n",
      "21/21 [==============================] - 4s 195ms/step - loss: 0.0573 - accuracy: 0.9767 - val_loss: 0.2251 - val_accuracy: 0.9457\n",
      "Epoch 43/50\n",
      "21/21 [==============================] - 4s 189ms/step - loss: 0.0482 - accuracy: 0.9813 - val_loss: 0.1915 - val_accuracy: 0.9312\n",
      "Epoch 44/50\n",
      "21/21 [==============================] - 4s 197ms/step - loss: 0.0496 - accuracy: 0.9891 - val_loss: 0.2456 - val_accuracy: 0.9348\n",
      "Epoch 45/50\n",
      "21/21 [==============================] - 4s 176ms/step - loss: 0.0608 - accuracy: 0.9782 - val_loss: 0.2173 - val_accuracy: 0.9457\n",
      "Epoch 46/50\n",
      "21/21 [==============================] - 4s 183ms/step - loss: 0.0426 - accuracy: 0.9829 - val_loss: 0.1943 - val_accuracy: 0.9384\n",
      "Epoch 47/50\n",
      "21/21 [==============================] - 5s 221ms/step - loss: 0.0602 - accuracy: 0.9813 - val_loss: 0.2558 - val_accuracy: 0.9348\n",
      "Epoch 48/50\n",
      "21/21 [==============================] - 5s 227ms/step - loss: 0.0646 - accuracy: 0.9813 - val_loss: 0.2570 - val_accuracy: 0.9312\n",
      "Epoch 49/50\n",
      "21/21 [==============================] - 4s 189ms/step - loss: 0.0553 - accuracy: 0.9782 - val_loss: 0.2034 - val_accuracy: 0.9348\n",
      "Epoch 50/50\n",
      "21/21 [==============================] - 4s 201ms/step - loss: 0.1263 - accuracy: 0.9627 - val_loss: 0.2137 - val_accuracy: 0.9275\n"
     ]
    }
   ],
   "source": [
    "import tensorflow as tf\n",
    "from tensorflow.keras.datasets import cifar10\n",
    "from tensorflow.keras.preprocessing.image import ImageDataGenerator\n",
    "from tensorflow.keras.models import Sequential\n",
    "from tensorflow.keras.layers import Dense, Dropout, Activation, Flatten\n",
    "from tensorflow.keras.layers import Conv2D, AveragePooling2D\n",
    "model = Sequential()\n",
    "\n",
    "\n",
    "model.add(Conv2D(filters=16, kernel_size=(3, 3), activation='relu', input_shape=X.shape[1:]))\n",
    "model.add(AveragePooling2D())\n",
    "model.add(Dropout(0.5))\n",
    "\n",
    "model.add(Conv2D(filters=32, kernel_size=(3, 3), activation='relu'))\n",
    "model.add(AveragePooling2D())\n",
    "model.add(Dropout(0.5))\n",
    "\n",
    "model.add(Conv2D(filters=64, kernel_size=(3, 3), activation='relu'))\n",
    "model.add(AveragePooling2D())\n",
    "model.add(Dropout(0.5))\n",
    "\n",
    "model.add(Flatten())\n",
    "\n",
    "model.add(Dense(units=256, activation='relu'))\n",
    "model.add(Dropout(0.2))\n",
    "\n",
    "model.add(Dense(units=128, activation='relu'))\n",
    "\n",
    "model.add(Dense(units=5, activation = 'softmax'))\n",
    "\n",
    "model.compile(loss='sparse_categorical_crossentropy',\n",
    "              optimizer='adam',\n",
    "              metrics=['accuracy'])\n",
    "\n",
    "\n",
    "\n",
    "\n",
    "history = model.fit(X, y, batch_size=32, epochs=50,validation_split=0.3)\n",
    "model.save('traffic_model.h5')\n"
   ]
  },
  {
   "cell_type": "code",
   "execution_count": 4,
   "metadata": {},
   "outputs": [
    {
     "data": {
      "image/png": "[encoded data removed]",
      "text/plain": [
       "<Figure size 432x288 with 1 Axes>"
      ]
     },
     "metadata": {
      "needs_background": "light"
     },
     "output_type": "display_data"
    }
   ],
   "source": [
    "from matplotlib import pyplot as plt\n",
    "plt.plot(history.history['accuracy'])\n",
    "plt.plot(history.history['val_accuracy'])\n",
    "plt.title('model accuracy')\n",
    "plt.ylabel('accuracy')\n",
    "plt.xlabel('epoch')\n",
    "plt.legend(['train', 'validation'], loc='upper left')\n",
    "plt.show()"
   ]
  },
  {
   "cell_type": "code",
   "execution_count": 5,
   "metadata": {},
   "outputs": [
    {
     "data": {
      "image/png": "[encoded data removed]",
      "text/plain": [
       "<Figure size 432x288 with 1 Axes>"
      ]
     },
     "metadata": {
      "needs_background": "light"
     },
     "output_type": "display_data"
    }
   ],
   "source": [
    "from matplotlib import pyplot as plt\n",
    "plt.plot(history.history['loss'])\n",
    "plt.plot(history.history['val_loss'])\n",
    "plt.title('model loss')\n",
    "plt.ylabel('loss')\n",
    "plt.xlabel('epoch')\n",
    "plt.legend(['train', 'validation'], loc='upper left')\n",
    "plt.show()"
   ]
  }
 ],
 "metadata": {
  "kernelspec": {
   "display_name": "Python 3",
   "language": "python",
   "name": "python3"
  },
  "language_info": {
   "codemirror_mode": {
    "name": "ipython",
    "version": 3
   },
   "file_extension": ".py",
   "mimetype": "text/x-python",
   "name": "python",
   "nbconvert_exporter": "python",
   "pygments_lexer": "ipython3",
   "version": "3.7.9"
  }
 },
 "nbformat": 4,
 "nbformat_minor": 2
}
