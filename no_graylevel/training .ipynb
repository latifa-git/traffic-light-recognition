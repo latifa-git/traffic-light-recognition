{
 "cells": [
  {
   "cell_type": "code",
   "execution_count": 1,
   "metadata": {},
   "outputs": [
    {
     "name": "stderr",
     "output_type": "stream",
     "text": [
      "  1%|          | 2/200 [00:00<00:12, 16.43it/s]"
     ]
    },
    {
     "name": "stdout",
     "output_type": "stream",
     "text": [
      "data shape  (5, 2) <class 'pandas.core.frame.DataFrame'>\n"
     ]
    },
    {
     "name": "stderr",
     "output_type": "stream",
     "text": [
      "100%|██████████| 200/200 [00:00<00:00, 791.26it/s]\n",
      "100%|██████████| 189/189 [00:00<00:00, 1595.26it/s]\n",
      "100%|██████████| 263/263 [00:01<00:00, 154.08it/s]\n",
      "100%|██████████| 251/251 [00:00<00:00, 397.47it/s]\n",
      "100%|██████████| 272/272 [00:00<00:00, 357.68it/s]\n"
     ]
    },
    {
     "name": "stdout",
     "output_type": "stream",
     "text": [
      "1168\n",
      "0\n",
      "1\n",
      "1\n",
      "0\n",
      "3\n",
      "3\n",
      "2\n",
      "4\n",
      "4\n",
      "0\n"
     ]
    }
   ],
   "source": [
    "import os\n",
    "import cv2\n",
    "import numpy as np\n",
    "from tqdm import tqdm\n",
    "import pandas as pd\n",
    "import tensorflow as tf\n",
    "from tensorflow.keras.datasets import cifar10\n",
    "from tensorflow.keras.preprocessing.image import ImageDataGenerator\n",
    "from tensorflow.keras.models import Sequential\n",
    "from tensorflow.keras.layers import Dense, Dropout, Activation, Flatten\n",
    "from tensorflow.keras.layers import Conv2D, AveragePooling2D\n",
    "\n",
    "\n",
    "DATADIR = 'datta'\n",
    "CATEGORIES = ['0', '1','2','3','4']\n",
    "labelFile = 'labels.csv' # file with all names of classes\n",
    "\n",
    "\n",
    "\n",
    "\n",
    "IMG_SIZE = 64\n",
    "def create_training_data():\n",
    "    training_data = []\n",
    "    for category in CATEGORIES:  \n",
    "\n",
    "        path = os.path.join(DATADIR,category) \n",
    "        class_num = CATEGORIES.index(category)  # get the classification  (0 or a 1). 0=C 1=O\n",
    "        for img in tqdm(os.listdir(path)):  # iterate over each image\n",
    "            try:\n",
    "                img_array = cv2.imread(os.path.join(path,img))  # convert to array\n",
    "                new_array = cv2.resize(img_array, (IMG_SIZE, IMG_SIZE)) # resize to normalize data size\n",
    "                training_data.append([new_array, class_num])  # add this to our training_data\n",
    "            except Exception as e:  # in the interest in keeping the output clean...\n",
    "                pass\n",
    "              \n",
    "    return training_data\n",
    "\n",
    "data=pd.read_csv(labelFile)\n",
    "print(\"data shape \",data.shape,type(data))\n",
    "\n",
    "\n",
    "training_data = create_training_data()\n",
    "\n",
    "\n",
    "import random\n",
    "\n",
    "print(len(training_data))\n",
    "random.shuffle(training_data)\n",
    "for sample in training_data[:10]:\n",
    "    print(sample[1])\n",
    "\n",
    "\n",
    "X = []\n",
    "Y = []\n",
    "\n",
    "for features,label in training_data:\n",
    "    X.append(features)\n",
    "    Y.append(label)\n",
    "\n",
    "X = np.array(X).reshape(-1, IMG_SIZE, IMG_SIZE, 3)\n",
    "X = X/255.0\n",
    "X.shape[1:]\n",
    "\n",
    "y=np.array(Y)\n",
    "\n"
   ]
  },
  {
   "cell_type": "code",
   "execution_count": null,
   "metadata": {},
   "outputs": [],
   "source": []
  },
  {
   "cell_type": "code",
   "execution_count": 2,
   "metadata": {},
   "outputs": [
    {
     "name": "stdout",
     "output_type": "stream",
     "text": [
      "Epoch 1/50\n",
      "26/26 [==============================] - 5s 210ms/step - loss: 1.4775 - accuracy: 0.2742 - val_loss: 1.1169 - val_accuracy: 0.4929\n",
      "Epoch 2/50\n",
      "26/26 [==============================] - 5s 190ms/step - loss: 0.9418 - accuracy: 0.6132 - val_loss: 0.6311 - val_accuracy: 0.7607\n",
      "Epoch 3/50\n",
      "26/26 [==============================] - 5s 198ms/step - loss: 0.7303 - accuracy: 0.6891 - val_loss: 0.5574 - val_accuracy: 0.7778\n",
      "Epoch 4/50\n",
      "26/26 [==============================] - 5s 187ms/step - loss: 0.6124 - accuracy: 0.7368 - val_loss: 0.5005 - val_accuracy: 0.7578\n",
      "Epoch 5/50\n",
      "26/26 [==============================] - 5s 192ms/step - loss: 0.5775 - accuracy: 0.7417 - val_loss: 0.4619 - val_accuracy: 0.8291\n",
      "Epoch 6/50\n",
      "26/26 [==============================] - 5s 199ms/step - loss: 0.4886 - accuracy: 0.7980 - val_loss: 0.4231 - val_accuracy: 0.8234\n",
      "Epoch 7/50\n",
      "26/26 [==============================] - 5s 184ms/step - loss: 0.4420 - accuracy: 0.8103 - val_loss: 0.3757 - val_accuracy: 0.8604\n",
      "Epoch 8/50\n",
      "26/26 [==============================] - 5s 196ms/step - loss: 0.3967 - accuracy: 0.8213 - val_loss: 0.3168 - val_accuracy: 0.8803\n",
      "Epoch 9/50\n",
      "26/26 [==============================] - 5s 201ms/step - loss: 0.3881 - accuracy: 0.8201 - val_loss: 0.3547 - val_accuracy: 0.7749\n",
      "Epoch 10/50\n",
      "26/26 [==============================] - 5s 188ms/step - loss: 0.4139 - accuracy: 0.8029 - val_loss: 0.3156 - val_accuracy: 0.8689\n",
      "Epoch 11/50\n",
      "26/26 [==============================] - 5s 193ms/step - loss: 0.3618 - accuracy: 0.8470 - val_loss: 0.2838 - val_accuracy: 0.8917\n",
      "Epoch 12/50\n",
      "26/26 [==============================] - 5s 197ms/step - loss: 0.3178 - accuracy: 0.8580 - val_loss: 0.2969 - val_accuracy: 0.8604\n",
      "Epoch 13/50\n",
      "26/26 [==============================] - 5s 189ms/step - loss: 0.3228 - accuracy: 0.8678 - val_loss: 0.2968 - val_accuracy: 0.8775\n",
      "Epoch 14/50\n",
      "26/26 [==============================] - 5s 197ms/step - loss: 0.3155 - accuracy: 0.8727 - val_loss: 0.2417 - val_accuracy: 0.8917\n",
      "Epoch 15/50\n",
      "26/26 [==============================] - 5s 201ms/step - loss: 0.2844 - accuracy: 0.8813 - val_loss: 0.2150 - val_accuracy: 0.9117\n",
      "Epoch 16/50\n",
      "26/26 [==============================] - 5s 187ms/step - loss: 0.2506 - accuracy: 0.8935 - val_loss: 0.2498 - val_accuracy: 0.8860\n",
      "Epoch 17/50\n",
      "26/26 [==============================] - 5s 193ms/step - loss: 0.2095 - accuracy: 0.9192 - val_loss: 0.2282 - val_accuracy: 0.9316\n",
      "Epoch 18/50\n",
      "26/26 [==============================] - 5s 202ms/step - loss: 0.2013 - accuracy: 0.9204 - val_loss: 0.1892 - val_accuracy: 0.9345\n",
      "Epoch 19/50\n",
      "26/26 [==============================] - 5s 188ms/step - loss: 0.1873 - accuracy: 0.9180 - val_loss: 0.1533 - val_accuracy: 0.9544\n",
      "Epoch 20/50\n",
      "26/26 [==============================] - 5s 189ms/step - loss: 0.1862 - accuracy: 0.9315 - val_loss: 0.1156 - val_accuracy: 0.9573\n",
      "Epoch 21/50\n",
      "26/26 [==============================] - 5s 202ms/step - loss: 0.1641 - accuracy: 0.9339 - val_loss: 0.1105 - val_accuracy: 0.9601\n",
      "Epoch 22/50\n",
      "26/26 [==============================] - 5s 190ms/step - loss: 0.1323 - accuracy: 0.9461 - val_loss: 0.0646 - val_accuracy: 0.9744\n",
      "Epoch 23/50\n",
      "26/26 [==============================] - 5s 191ms/step - loss: 0.1138 - accuracy: 0.9584 - val_loss: 0.0668 - val_accuracy: 0.9829\n",
      "Epoch 24/50\n",
      "26/26 [==============================] - 5s 193ms/step - loss: 0.1168 - accuracy: 0.9572 - val_loss: 0.1353 - val_accuracy: 0.9658\n",
      "Epoch 25/50\n",
      "26/26 [==============================] - 5s 191ms/step - loss: 0.1122 - accuracy: 0.9596 - val_loss: 0.0728 - val_accuracy: 0.9772\n",
      "Epoch 26/50\n",
      "26/26 [==============================] - 5s 194ms/step - loss: 0.0892 - accuracy: 0.9718 - val_loss: 0.0692 - val_accuracy: 0.9744\n",
      "Epoch 27/50\n",
      "26/26 [==============================] - 5s 192ms/step - loss: 0.0719 - accuracy: 0.9755 - val_loss: 0.0496 - val_accuracy: 0.9801\n",
      "Epoch 28/50\n",
      "26/26 [==============================] - 5s 195ms/step - loss: 0.0669 - accuracy: 0.9743 - val_loss: 0.0557 - val_accuracy: 0.9801\n",
      "Epoch 29/50\n",
      "26/26 [==============================] - 5s 188ms/step - loss: 0.0656 - accuracy: 0.9731 - val_loss: 0.0786 - val_accuracy: 0.9772\n",
      "Epoch 30/50\n",
      "26/26 [==============================] - 5s 192ms/step - loss: 0.0793 - accuracy: 0.9670 - val_loss: 0.0706 - val_accuracy: 0.9772\n",
      "Epoch 31/50\n",
      "26/26 [==============================] - 5s 207ms/step - loss: 0.0818 - accuracy: 0.9743 - val_loss: 0.0512 - val_accuracy: 0.9829\n",
      "Epoch 32/50\n",
      "26/26 [==============================] - 5s 188ms/step - loss: 0.0646 - accuracy: 0.9780 - val_loss: 0.0530 - val_accuracy: 0.9858\n",
      "Epoch 33/50\n",
      "26/26 [==============================] - 5s 187ms/step - loss: 0.0717 - accuracy: 0.9718 - val_loss: 0.0553 - val_accuracy: 0.9772\n",
      "Epoch 34/50\n",
      "26/26 [==============================] - 5s 205ms/step - loss: 0.0544 - accuracy: 0.9841 - val_loss: 0.0865 - val_accuracy: 0.9744\n",
      "Epoch 35/50\n",
      "26/26 [==============================] - 6s 213ms/step - loss: 0.0479 - accuracy: 0.9816 - val_loss: 0.0276 - val_accuracy: 0.9915\n",
      "Epoch 36/50\n",
      "26/26 [==============================] - 5s 197ms/step - loss: 0.0491 - accuracy: 0.9829 - val_loss: 0.0389 - val_accuracy: 0.9829\n",
      "Epoch 37/50\n",
      "26/26 [==============================] - 6s 232ms/step - loss: 0.0418 - accuracy: 0.9841 - val_loss: 0.0347 - val_accuracy: 0.9915\n",
      "Epoch 38/50\n",
      "26/26 [==============================] - 5s 190ms/step - loss: 0.0481 - accuracy: 0.9792 - val_loss: 0.0361 - val_accuracy: 0.9858\n",
      "Epoch 39/50\n",
      "26/26 [==============================] - 5s 202ms/step - loss: 0.0384 - accuracy: 0.9878 - val_loss: 0.0269 - val_accuracy: 0.9915\n",
      "Epoch 40/50\n",
      "26/26 [==============================] - 5s 192ms/step - loss: 0.0459 - accuracy: 0.9890 - val_loss: 0.0452 - val_accuracy: 0.9858\n",
      "Epoch 41/50\n",
      "26/26 [==============================] - 5s 188ms/step - loss: 0.1242 - accuracy: 0.9633 - val_loss: 0.0650 - val_accuracy: 0.9801\n",
      "Epoch 42/50\n",
      "26/26 [==============================] - 5s 189ms/step - loss: 0.0849 - accuracy: 0.9767 - val_loss: 0.0378 - val_accuracy: 0.9858\n",
      "Epoch 43/50\n",
      "26/26 [==============================] - 5s 198ms/step - loss: 0.0764 - accuracy: 0.9755 - val_loss: 0.0403 - val_accuracy: 0.9801\n",
      "Epoch 44/50\n",
      "26/26 [==============================] - 5s 190ms/step - loss: 0.0411 - accuracy: 0.9853 - val_loss: 0.0422 - val_accuracy: 0.9886\n",
      "Epoch 45/50\n",
      "26/26 [==============================] - 5s 188ms/step - loss: 0.0520 - accuracy: 0.9767 - val_loss: 0.0642 - val_accuracy: 0.9801\n",
      "Epoch 46/50\n",
      "26/26 [==============================] - 5s 199ms/step - loss: 0.0263 - accuracy: 0.9914 - val_loss: 0.0469 - val_accuracy: 0.9858\n",
      "Epoch 47/50\n",
      "26/26 [==============================] - 5s 189ms/step - loss: 0.0176 - accuracy: 0.9963 - val_loss: 0.0517 - val_accuracy: 0.9858\n",
      "Epoch 48/50\n",
      "26/26 [==============================] - 5s 189ms/step - loss: 0.0201 - accuracy: 0.9927 - val_loss: 0.0557 - val_accuracy: 0.9829\n",
      "Epoch 49/50\n",
      "26/26 [==============================] - 5s 208ms/step - loss: 0.0412 - accuracy: 0.9878 - val_loss: 0.0493 - val_accuracy: 0.9829\n",
      "Epoch 50/50\n",
      "26/26 [==============================] - 5s 187ms/step - loss: 0.0180 - accuracy: 0.9976 - val_loss: 0.0358 - val_accuracy: 0.9886\n"
     ]
    }
   ],
   "source": [
    "\n",
    "model = Sequential()\n",
    "\n",
    "\n",
    "model.add(Conv2D(filters=16, kernel_size=(3, 3), activation='relu', input_shape=X.shape[1:]))\n",
    "model.add(AveragePooling2D())\n",
    "model.add(Dropout(0.5))\n",
    "\n",
    "model.add(Conv2D(filters=32, kernel_size=(3, 3), activation='relu'))\n",
    "model.add(AveragePooling2D())\n",
    "model.add(Dropout(0.5))\n",
    "\n",
    "model.add(Conv2D(filters=64, kernel_size=(3, 3), activation='relu'))\n",
    "model.add(AveragePooling2D())\n",
    "model.add(Dropout(0.5))\n",
    "\n",
    "model.add(Flatten())\n",
    "\n",
    "model.add(Dense(units=256, activation='relu'))\n",
    "model.add(Dropout(0.2))\n",
    "\n",
    "model.add(Dense(units=128, activation='relu'))\n",
    "\n",
    "model.add(Dense(units=5, activation = 'softmax'))\n",
    "\n",
    "model.compile(loss='sparse_categorical_crossentropy',\n",
    "              optimizer='adam',\n",
    "              metrics=['accuracy'])\n",
    "\n",
    "\n",
    "\n",
    "\n",
    "history = model.fit(X, y, batch_size=32, epochs=50,validation_split=0.3)\n",
    "model.save('modelsign2.h5')\n"
   ]
  },
  {
   "cell_type": "code",
   "execution_count": 3,
   "metadata": {},
   "outputs": [
    {
     "data": {
      "image/png": "[encoded data removed]",
      "text/plain": [
       "<Figure size 432x288 with 1 Axes>"
      ]
     },
     "metadata": {
      "needs_background": "light"
     },
     "output_type": "display_data"
    }
   ],
   "source": [
    "from matplotlib import pyplot as plt\n",
    "plt.plot(history.history['accuracy'])\n",
    "plt.plot(history.history['val_accuracy'])\n",
    "plt.title('model accuracy')\n",
    "plt.ylabel('accuracy')\n",
    "plt.xlabel('epoch')\n",
    "plt.legend(['train', 'validation'], loc='upper left')\n",
    "plt.show()"
   ]
  },
  {
   "cell_type": "code",
   "execution_count": 4,
   "metadata": {},
   "outputs": [
    {
     "data": {
      "image/png": "[encoded data removed]",
      "text/plain": [
       "<Figure size 432x288 with 1 Axes>"
      ]
     },
     "metadata": {
      "needs_background": "light"
     },
     "output_type": "display_data"
    }
   ],
   "source": [
    "from matplotlib import pyplot as plt\n",
    "plt.plot(history.history['loss'])\n",
    "plt.plot(history.history['val_loss'])\n",
    "plt.title('model loss')\n",
    "plt.ylabel('loss')\n",
    "plt.xlabel('epoch')\n",
    "plt.legend(['train', 'validation'], loc='upper left')\n",
    "plt.show()"
   ]
  },
  {
   "cell_type": "code",
   "execution_count": null,
   "metadata": {},
   "outputs": [],
   "source": []
  }
 ],
 "metadata": {
  "kernelspec": {
   "display_name": "Python 3",
   "language": "python",
   "name": "python3"
  },
  "language_info": {
   "codemirror_mode": {
    "name": "ipython",
    "version": 3
   },
   "file_extension": ".py",
   "mimetype": "text/x-python",
   "name": "python",
   "nbconvert_exporter": "python",
   "pygments_lexer": "ipython3",
   "version": "3.7.9"
  }
 },
 "nbformat": 4,
 "nbformat_minor": 2
}
