{
 "cells": [
  {
   "cell_type": "code",
   "execution_count": null,
   "metadata": {},
   "outputs": [],
   "source": [
    "import RPi.GPIO as GPIO\n",
    "import time\n",
    " \n",
    "GPIO.setmode(GPIO.BCM)\n",
    "GPIO.setwarnings(False)\n",
    "TRIG = 23\n",
    "ECHO = 24\n",
    "def us():\n",
    "    GPIO.setup(TRIG,GPIO.OUT)\n",
    "    GPIO.setup(ECHO,GPIO.IN)\n",
    "    \n",
    "    GPIO.output(TRIG, False)\n",
    "    print ('Waiting a few seconds for the sensor to settle')\n",
    "    time.sleep(2)\n",
    "    GPIO.output(TRIG, True)\n",
    "    time.sleep(0.00001)\n",
    "    GPIO.output(TRIG, False)\n",
    "\n",
    "    while GPIO.input(ECHO)==0:\n",
    "        pulse_start = time.time()\n",
    "\n",
    "    while GPIO.input(ECHO)==1:\n",
    "        pulse_end = time.time()\n",
    "\n",
    "    pulse_duration = pulse_end - pulse_start\n",
    "    distance = pulse_duration * 17165\n",
    "    distance = round(distance, 1)\n",
    "        #print ('Distance:',distance,'cm')\n",
    "    return distance\n",
    "while True :\n",
    "    print(us(),'cm')\n",
    "    time.sleep(2)\n"
   ]
  }
 ],
 "metadata": {
  "kernelspec": {
   "display_name": "Python 3",
   "language": "python",
   "name": "python3"
  },
  "language_info": {
   "codemirror_mode": {
    "name": "ipython",
    "version": 3
   },
   "file_extension": ".py",
   "mimetype": "text/x-python",
   "name": "python",
   "nbconvert_exporter": "python",
   "pygments_lexer": "ipython3",
   "version": "3.7.9"
  }
 },
 "nbformat": 4,
 "nbformat_minor": 2
}
